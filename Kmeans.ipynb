{
  "nbformat": 4,
  "nbformat_minor": 0,
  "metadata": {
    "colab": {
      "name": "project3.ipynb",
      "provenance": [],
      "collapsed_sections": []
    },
    "kernelspec": {
      "name": "python3",
      "display_name": "Python 3"
    },
    "accelerator": "GPU"
  },
  "cells": [
    {
      "cell_type": "code",
      "metadata": {
        "id": "T1PNfFrPq_su",
        "outputId": "67bff39f-a4bf-4948-e276-8ae495de664e",
        "colab": {
          "base_uri": "https://localhost:8080/",
          "height": 51
        }
      },
      "source": [
        "import sys\n",
        "!pip install pyspark \n",
        "from pyspark import SparkContext, SparkConf\n",
        "import matplotlib.pyplot as plt\n",
        "sc = SparkContext(\"local\",\"Project3-K-means\")"
      ],
      "execution_count": 1,
      "outputs": [
        {
          "output_type": "stream",
          "text": [
            "Requirement already satisfied: pyspark in /usr/local/lib/python3.6/dist-packages (3.0.1)\n",
            "Requirement already satisfied: py4j==0.10.9 in /usr/local/lib/python3.6/dist-packages (from pyspark) (0.10.9)\n"
          ],
          "name": "stdout"
        }
      ]
    },
    {
      "cell_type": "code",
      "metadata": {
        "id": "ra709710zbwv",
        "outputId": "13aa20c3-277a-4ba7-aefe-6be86fb7e842",
        "colab": {
          "base_uri": "https://localhost:8080/",
          "height": 34
        }
      },
      "source": [
        "#This should be used only when running this on google colab\n",
        "from google.colab import drive\n",
        "drive.mount('/content/gdrive')"
      ],
      "execution_count": 2,
      "outputs": [
        {
          "output_type": "stream",
          "text": [
            "Drive already mounted at /content/gdrive; to attempt to forcibly remount, call drive.mount(\"/content/gdrive\", force_remount=True).\n"
          ],
          "name": "stdout"
        }
      ]
    },
    {
      "cell_type": "code",
      "metadata": {
        "id": "aZCSdSg7B91Q"
      },
      "source": [
        "#import the input file. I have just considered just a small portion of the file as system has very less resources. You can use the main input file path\n",
        "file1 = '/content/gdrive/My Drive/CS5683/data.txt'\n",
        "fileRDD = sc.textFile(file1, minPartitions=20)"
      ],
      "execution_count": 3,
      "outputs": []
    },
    {
      "cell_type": "code",
      "metadata": {
        "id": "oZrk89j-CPyG"
      },
      "source": [
        "items = fileRDD.map(lambda line:line.split())\n",
        "\n",
        "data = items.map(lambda x: [float(i) for i in x]).zipWithIndex().map(lambda x:(x[1],x[0]))"
      ],
      "execution_count": 4,
      "outputs": []
    },
    {
      "cell_type": "code",
      "metadata": {
        "id": "KZWlasffR8uH"
      },
      "source": [
        "sample = sc.parallelize(data.takeSample(False, 10))\n",
        "centroids = sample.map(lambda point : point[1])\n",
        "centroids1 =  centroids.zipWithIndex().map(lambda point : (point[1], point[0]))"
      ],
      "execution_count": 5,
      "outputs": []
    },
    {
      "cell_type": "code",
      "metadata": {
        "id": "zfgROlpDhz7Z"
      },
      "source": [
        "columns = len(items.take(1)[0])\n",
        "rows = items.count()"
      ],
      "execution_count": 6,
      "outputs": []
    },
    {
      "cell_type": "code",
      "metadata": {
        "id": "wuhM4NoHBIcF"
      },
      "source": [
        "centroids_list = sc.broadcast(centroids1.collect())\n",
        "centroids_list_man = sc.broadcast(centroids1.collect())"
      ],
      "execution_count": 7,
      "outputs": []
    },
    {
      "cell_type": "code",
      "metadata": {
        "id": "xkOZXUd7hY13"
      },
      "source": [
        "with open(\"/content/gdrive/My Drive/CS5683/Kmeans_centroids.txt\", 'w') as output:\n",
        "    for row in centroids_list.value:\n",
        "        output.write(str(row) + '\\n')"
      ],
      "execution_count": 9,
      "outputs": []
    },
    {
      "cell_type": "code",
      "metadata": {
        "id": "I9cSkOLizbnW"
      },
      "source": [
        "def Euclidian_distance(x):\n",
        "  list1 = []\n",
        "  for j in centroids_list.value:\n",
        "    count = 0\n",
        "    for i in range(0,columns):\n",
        "      count = count + (j[1][i]-x[1][i]) * (j[1][i]-x[1][i])\n",
        "    count = count**.5 #\"{:.2f}\".format(6.737391260718053)\n",
        "    list1.append([j[0],count])\n",
        "  return (x[0],list1)"
      ],
      "execution_count": 10,
      "outputs": []
    },
    {
      "cell_type": "code",
      "metadata": {
        "id": "xS9pfqtOa-Q-",
        "outputId": "bf20aab0-38cd-47ec-9ee6-94d3143560e2",
        "colab": {
          "base_uri": "https://localhost:8080/",
          "height": 357
        }
      },
      "source": [
        "maxiterations = 20\n",
        "cost_functions_eu = {}\n",
        "for i in range(0,maxiterations):\n",
        "  assigned_clusters = data.map(Euclidian_distance).map(lambda a: (a[0], min((x for x in a[1]), key=lambda k:k[1])))\n",
        "  #print(assigned_clusters.take(2))\n",
        "  cost_function_eu = assigned_clusters.map(lambda x: x[1][1]*x[1][1]).sum()\n",
        "  cost_functions_eu[i+1]  = cost_function_eu\n",
        "  #new_centroids \n",
        "  new_centroids = assigned_clusters.join(data).map(lambda x: (x[1][0][0],x[1][1])).groupByKey().map(lambda x: (x[0], list(x[1]))).map(lambda c: (c[0], [sum(col)/len(col) for col in zip(*c[1])]))\n",
        "  #print(centroids1.take(2))\n",
        "  centroids_list = sc.broadcast(new_centroids.collect())\n",
        "  print('iter #' + str(i+1) + ' : ' + str(cost_function_eu))"
      ],
      "execution_count": 11,
      "outputs": [
        {
          "output_type": "stream",
          "text": [
            "iter #1 : 1079990240.583616\n",
            "iter #2 : 805701368.279913\n",
            "iter #3 : 719077517.3632215\n",
            "iter #4 : 672399693.2709783\n",
            "iter #5 : 593396760.2602544\n",
            "iter #6 : 548391467.7227613\n",
            "iter #7 : 530917899.64427626\n",
            "iter #8 : 516859316.80842566\n",
            "iter #9 : 503358946.6261691\n",
            "iter #10 : 493446011.3814063\n",
            "iter #11 : 485631702.4429093\n",
            "iter #12 : 479948533.6113337\n",
            "iter #13 : 475758315.63260746\n",
            "iter #14 : 472215350.9168195\n",
            "iter #15 : 469282393.4021713\n",
            "iter #16 : 467579091.9258087\n",
            "iter #17 : 466440762.945261\n",
            "iter #18 : 465314481.8674571\n",
            "iter #19 : 464509537.7932474\n",
            "iter #20 : 463922402.45472836\n"
          ],
          "name": "stdout"
        }
      ]
    },
    {
      "cell_type": "code",
      "metadata": {
        "id": "0eaFVlKcYydw"
      },
      "source": [
        "perc_change = (cost_functions_eu[1]-cost_functions_eu[10])/cost_functions_eu[1]"
      ],
      "execution_count": 12,
      "outputs": []
    },
    {
      "cell_type": "code",
      "metadata": {
        "id": "E-AGUdyVgEp4",
        "outputId": "34f4da5a-ca3c-4534-9b93-a91743d8e650",
        "colab": {
          "base_uri": "https://localhost:8080/",
          "height": 34
        }
      },
      "source": [
        "perc_change"
      ],
      "execution_count": 13,
      "outputs": [
        {
          "output_type": "execute_result",
          "data": {
            "text/plain": [
              "0.5431014162546941"
            ]
          },
          "metadata": {
            "tags": []
          },
          "execution_count": 13
        }
      ]
    },
    {
      "cell_type": "code",
      "metadata": {
        "id": "CRjGDtXW-2RY",
        "outputId": "c77d5454-3c36-47aa-cb06-b6c6965c74de",
        "colab": {
          "base_uri": "https://localhost:8080/",
          "height": 312
        }
      },
      "source": [
        "plt.title('Cost Function Optimization using Euclidean Distance')\n",
        "plt.ylabel('Cost Function Value')\n",
        "plt.xlabel('Iteration')\n",
        "plt.plot(list(cost_functions_eu.keys()),list(cost_functions_eu.values()))"
      ],
      "execution_count": 14,
      "outputs": [
        {
          "output_type": "execute_result",
          "data": {
            "text/plain": [
              "[<matplotlib.lines.Line2D at 0x7f27a63f6ef0>]"
            ]
          },
          "metadata": {
            "tags": []
          },
          "execution_count": 14
        },
        {
          "output_type": "display_data",
          "data": {
            "image/png": "[encoded data removed]",
            "text/plain": [
              "<Figure size 432x288 with 1 Axes>"
            ]
          },
          "metadata": {
            "tags": [],
            "needs_background": "light"
          }
        }
      ]
    },
    {
      "cell_type": "code",
      "metadata": {
        "id": "FPUL0gLmQgKn"
      },
      "source": [
        "def manhattan_distance(x):\n",
        "  list1 = []\n",
        "  for j in centroids_list_man.value:\n",
        "    count = 0\n",
        "    for i in range(0,columns):\n",
        "      count = count + abs(j[1][i]-x[1][i])\n",
        "    count = count**.5 #\"{:.2f}\".format(6.737391260718053)\n",
        "    list1.append([j[0],count])\n",
        "    \n",
        "  return (x[0],list1)"
      ],
      "execution_count": 15,
      "outputs": []
    },
    {
      "cell_type": "code",
      "metadata": {
        "id": "KIj_yuDjRl-j",
        "outputId": "30ced1b0-61cb-47b6-9d8e-f5fe38847b7b",
        "colab": {
          "base_uri": "https://localhost:8080/",
          "height": 357
        }
      },
      "source": [
        "maxiterations = 20\n",
        "cost_functions_man = {}\n",
        "for i in range(0,maxiterations):\n",
        "  assigned_clusters_man = data.map(manhattan_distance).map(lambda a: (a[0], min((x for x in a[1]), key=lambda k:k[1])))#centroids1.cartesian(data).map(distance).groupByKey().map(lambda x: (x[0], list(x[1]))).map(lambda a: (a[0], min((x for x in a[1]), key=lambda k:k[1])))\n",
        "  #print(assigned_clusters.take(2))\n",
        "  cost_function_man = assigned_clusters_man.map(lambda x: x[1][1]*x[1][1]).sum()\n",
        "  cost_functions_man[i+1]  = cost_function_man\n",
        "  #new_centroids \n",
        "  new_centroids_man = assigned_clusters_man.join(data).map(lambda x: (x[1][0][0],x[1][1])).groupByKey().map(lambda x: (x[0], list(x[1]))).map(lambda c: (c[0], [sum(col)/len(col) for col in zip(*c[1])]))\n",
        "  #print(centroids1.take(2))\n",
        "  centroids_list_man = sc.broadcast(new_centroids_man.collect())\n",
        "  print('iter #' + str(i+1) + ' : ' + str(cost_function_man))"
      ],
      "execution_count": 16,
      "outputs": [
        {
          "output_type": "stream",
          "text": [
            "iter #1 : 655942.0750000001\n",
            "iter #2 : 600441.8604432187\n",
            "iter #3 : 595684.5965909276\n",
            "iter #4 : 581278.9651913998\n",
            "iter #5 : 552403.4362422823\n",
            "iter #6 : 540456.377536856\n",
            "iter #7 : 536587.3803074257\n",
            "iter #8 : 532444.4724022921\n",
            "iter #9 : 534593.2799366666\n",
            "iter #10 : 533536.9177890058\n",
            "iter #11 : 530612.044723087\n",
            "iter #12 : 523319.5506512184\n",
            "iter #13 : 517130.1116860292\n",
            "iter #14 : 510916.2912278206\n",
            "iter #15 : 504067.02403995296\n",
            "iter #16 : 501572.29323034495\n",
            "iter #17 : 497676.5503688975\n",
            "iter #18 : 492970.4108330269\n",
            "iter #19 : 491642.48634151754\n",
            "iter #20 : 491507.4183713972\n"
          ],
          "name": "stdout"
        }
      ]
    },
    {
      "cell_type": "code",
      "metadata": {
        "id": "GQ6jkUXUTKUm"
      },
      "source": [
        "perc_change_man = (cost_functions_man[1]-cost_functions_man[10])/cost_functions_man[1]"
      ],
      "execution_count": 17,
      "outputs": []
    },
    {
      "cell_type": "code",
      "metadata": {
        "id": "BUM_MooXh2_N",
        "outputId": "94233895-f600-4623-f2aa-ab3be3a94f73",
        "colab": {
          "base_uri": "https://localhost:8080/",
          "height": 34
        }
      },
      "source": [
        "perc_change_man"
      ],
      "execution_count": 18,
      "outputs": [
        {
          "output_type": "execute_result",
          "data": {
            "text/plain": [
              "0.18660970514964187"
            ]
          },
          "metadata": {
            "tags": []
          },
          "execution_count": 18
        }
      ]
    },
    {
      "cell_type": "code",
      "metadata": {
        "id": "Dbm0hSVYh4YY",
        "outputId": "dec0aa0b-8f24-45f2-beca-2a8261855ba0",
        "colab": {
          "base_uri": "https://localhost:8080/",
          "height": 312
        }
      },
      "source": [
        "plt.title('Cost Function Optimization using Manhattan Distance')\n",
        "plt.ylabel('Cost Function Value')\n",
        "plt.xlabel('Iteration')\n",
        "plt.plot(list(cost_functions_man.keys()),list(cost_functions_man.values()))"
      ],
      "execution_count": 19,
      "outputs": [
        {
          "output_type": "execute_result",
          "data": {
            "text/plain": [
              "[<matplotlib.lines.Line2D at 0x7f27a62bf128>]"
            ]
          },
          "metadata": {
            "tags": []
          },
          "execution_count": 19
        },
        {
          "output_type": "display_data",
          "data": {
            "image/png": "[encoded data removed]",
            "text/plain": [
              "<Figure size 432x288 with 1 Axes>"
            ]
          },
          "metadata": {
            "tags": [],
            "needs_background": "light"
          }
        }
      ]
    }
  ]
}