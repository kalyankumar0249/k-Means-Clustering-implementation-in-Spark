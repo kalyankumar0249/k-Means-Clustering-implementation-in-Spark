{
  "nbformat": 4,
  "nbformat_minor": 0,
  "metadata": {
    "colab": {
      "name": "Kmeans++.ipynb",
      "provenance": []
    },
    "kernelspec": {
      "name": "python3",
      "display_name": "Python 3"
    }
  },
  "cells": [
    {
      "cell_type": "code",
      "metadata": {
        "id": "C8cGhHPA3Ghs",
        "outputId": "d5bfe38c-012f-4081-a74e-d60b70025921",
        "colab": {
          "base_uri": "https://localhost:8080/",
          "height": 51
        }
      },
      "source": [
        "import sys\n",
        "!pip install pyspark \n",
        "from pyspark import SparkContext, SparkConf\n",
        "import matplotlib.pyplot as plt\n",
        "sc = SparkContext(\"local\",\"Project3-K-means++\")"
      ],
      "execution_count": 1,
      "outputs": [
        {
          "output_type": "stream",
          "text": [
            "Requirement already satisfied: pyspark in /usr/local/lib/python3.6/dist-packages (3.0.1)\n",
            "Requirement already satisfied: py4j==0.10.9 in /usr/local/lib/python3.6/dist-packages (from pyspark) (0.10.9)\n"
          ],
          "name": "stdout"
        }
      ]
    },
    {
      "cell_type": "code",
      "metadata": {
        "id": "-VOZRmrh3JKQ",
        "outputId": "d15c10e5-8e83-475c-b6e0-35b3588cb7c9",
        "colab": {
          "base_uri": "https://localhost:8080/",
          "height": 34
        }
      },
      "source": [
        "#This should be used only when running this on google colab\n",
        "from google.colab import drive\n",
        "drive.mount('/content/gdrive')"
      ],
      "execution_count": 2,
      "outputs": [
        {
          "output_type": "stream",
          "text": [
            "Drive already mounted at /content/gdrive; to attempt to forcibly remount, call drive.mount(\"/content/gdrive\", force_remount=True).\n"
          ],
          "name": "stdout"
        }
      ]
    },
    {
      "cell_type": "code",
      "metadata": {
        "id": "-v3GY5tJ3Kob"
      },
      "source": [
        "#import the input file. I have just considered just a small portion of the file as system has very less resources. You can use the main input file path\n",
        "file1 = '/content/gdrive/My Drive/CS5683/data.txt'\n",
        "fileRDD = sc.textFile(file1, minPartitions=20)"
      ],
      "execution_count": 3,
      "outputs": []
    },
    {
      "cell_type": "code",
      "metadata": {
        "id": "3DQxRZU23L2a"
      },
      "source": [
        "items = fileRDD.map(lambda line:line.split())\n",
        "\n",
        "data = items.map(lambda x: [float(i) for i in x]).zipWithIndex().map(lambda x:(x[1],x[0]))"
      ],
      "execution_count": 4,
      "outputs": []
    },
    {
      "cell_type": "code",
      "metadata": {
        "id": "bv0umDqzm7hG"
      },
      "source": [
        "columns = len(items.take(1)[0])"
      ],
      "execution_count": 6,
      "outputs": []
    },
    {
      "cell_type": "code",
      "metadata": {
        "id": "CcA2n_Ira_sn"
      },
      "source": [
        "centroids = items.map(lambda x: [float(i) for i in x]).takeSample(False, 1)\n",
        "centroids[0] = (0,centroids[0])\n",
        "k= 10\n",
        "while len(centroids) < k:\n",
        "  def distance(x):\n",
        "    list1 = []\n",
        "    for j in centroids:\n",
        "      count = 0\n",
        "      for i in range(0,columns):\n",
        "        count = count + (j[1][i]-x[1][i]) * (j[1][i]-x[1][i])\n",
        "      list1.append([j[0],count])\n",
        "    return (x[0],list1)\n",
        "  max_distance = data.map(distance).map(lambda a: (a[0], max((x for x in a[1]), key=lambda k:k[1]))).max(key = lambda x: x[1][1])\n",
        "  #print(max_distance)\n",
        "  new_centroid = data.filter(lambda x: x[0] == max_distance[0]).map(lambda x: (len(centroids), x[1])).collect()\n",
        "  centroids = centroids + new_centroid"
      ],
      "execution_count": 11,
      "outputs": []
    },
    {
      "cell_type": "code",
      "metadata": {
        "id": "hC763WLyfUDf"
      },
      "source": [
        "centroids_list = sc.broadcast(centroids)\n",
        "centroids_list_man = sc.broadcast(centroids)"
      ],
      "execution_count": 13,
      "outputs": []
    },
    {
      "cell_type": "code",
      "metadata": {
        "id": "hTucII_nhoRm"
      },
      "source": [
        "with open(\"/content/gdrive/My Drive/CS5683/Kmeansplusplus_centroids.txt\", 'w') as output:\n",
        "    for row in centroids_list.value:\n",
        "        output.write(str(row) + '\\n')"
      ],
      "execution_count": 14,
      "outputs": []
    },
    {
      "cell_type": "code",
      "metadata": {
        "id": "XzJtqPJQfXuV"
      },
      "source": [
        "def Euclidian_distance(x):\n",
        "  list1 = []\n",
        "  for j in centroids_list.value:\n",
        "    count = 0\n",
        "    for i in range(0,columns):\n",
        "      count = count + (j[1][i]-x[1][i]) * (j[1][i]-x[1][i])\n",
        "    count = count**.5 #\"{:.2f}\".format(6.737391260718053)\n",
        "    list1.append([j[0],count])\n",
        "  return (x[0],list1)"
      ],
      "execution_count": 15,
      "outputs": []
    },
    {
      "cell_type": "code",
      "metadata": {
        "id": "sz2_DS_Yfdzx",
        "outputId": "acd5fb42-15ed-4a14-c1d5-9a00c051a968",
        "colab": {
          "base_uri": "https://localhost:8080/",
          "height": 357
        }
      },
      "source": [
        "maxiterations = 20\n",
        "cost_functions_eu = {}\n",
        "for i in range(0,maxiterations):\n",
        "  assigned_clusters = data.map(Euclidian_distance).map(lambda a: (a[0], min((x for x in a[1]), key=lambda k:k[1])))\n",
        "  #print(assigned_clusters.take(2))\n",
        "  cost_function_eu = assigned_clusters.map(lambda x: x[1][1]*x[1][1]).sum()\n",
        "  cost_functions_eu[i+1]  = cost_function_eu\n",
        "  #new_centroids \n",
        "  new_centroids = assigned_clusters.join(data).map(lambda x: (x[1][0][0],x[1][1])).groupByKey().map(lambda x: (x[0], list(x[1]))).map(lambda c: (c[0], [sum(col)/len(col) for col in zip(*c[1])]))\n",
        "  #print(centroids1.take(2))\n",
        "  centroids_list = sc.broadcast(new_centroids.collect())\n",
        "  print('iter #' + str(i+1) + ' : ' + str(cost_function_eu))"
      ],
      "execution_count": 16,
      "outputs": [
        {
          "output_type": "stream",
          "text": [
            "iter #1 : 1807102384.9008822\n",
            "iter #2 : 1167783732.6158426\n",
            "iter #3 : 827880471.3684412\n",
            "iter #4 : 660996622.9348587\n",
            "iter #5 : 591977608.0604535\n",
            "iter #6 : 559878319.6904585\n",
            "iter #7 : 549653745.78287\n",
            "iter #8 : 547306798.2527115\n",
            "iter #9 : 542218521.9513689\n",
            "iter #10 : 541487594.6416845\n",
            "iter #11 : 541374431.9798056\n",
            "iter #12 : 541333810.2743198\n",
            "iter #13 : 541313766.2138975\n",
            "iter #14 : 541300769.0025487\n",
            "iter #15 : 541296695.7046793\n",
            "iter #16 : 541294768.3806859\n",
            "iter #17 : 541294768.3806859\n",
            "iter #18 : 541294768.3806859\n",
            "iter #19 : 541294768.3806859\n",
            "iter #20 : 541294768.3806859\n"
          ],
          "name": "stdout"
        }
      ]
    },
    {
      "cell_type": "code",
      "metadata": {
        "id": "Ra7bjWaFff0x",
        "outputId": "b94b43d1-e402-414f-f070-17ada90bf323",
        "colab": {
          "base_uri": "https://localhost:8080/",
          "height": 34
        }
      },
      "source": [
        "perc_change = (cost_functions_eu[1]-cost_functions_eu[10])/cost_functions_eu[1]\n",
        "perc_change"
      ],
      "execution_count": 17,
      "outputs": [
        {
          "output_type": "execute_result",
          "data": {
            "text/plain": [
              "0.7003558851086433"
            ]
          },
          "metadata": {
            "tags": []
          },
          "execution_count": 17
        }
      ]
    },
    {
      "cell_type": "code",
      "metadata": {
        "id": "3uwsy1OCfkhN",
        "outputId": "3f99fca7-cbff-4a06-9b86-b62e283341d7",
        "colab": {
          "base_uri": "https://localhost:8080/",
          "height": 312
        }
      },
      "source": [
        "plt.title('Cost Function Optimization using Euclidean Distance')\n",
        "plt.ylabel('Cost Function Value')\n",
        "plt.xlabel('Iteration')\n",
        "plt.plot(list(cost_functions_eu.keys()),list(cost_functions_eu.values()))"
      ],
      "execution_count": 18,
      "outputs": [
        {
          "output_type": "execute_result",
          "data": {
            "text/plain": [
              "[<matplotlib.lines.Line2D at 0x7faf4b366898>]"
            ]
          },
          "metadata": {
            "tags": []
          },
          "execution_count": 18
        },
        {
          "output_type": "display_data",
          "data": {
            "image/png": "[encoded data removed]",
            "text/plain": [
              "<Figure size 432x288 with 1 Axes>"
            ]
          },
          "metadata": {
            "tags": [],
            "needs_background": "light"
          }
        }
      ]
    },
    {
      "cell_type": "code",
      "metadata": {
        "id": "iKsIZtngfxCV"
      },
      "source": [
        "def manhattan_distance(x):\n",
        "  list1 = []\n",
        "  for j in centroids_list_man.value:\n",
        "    count = 0\n",
        "    for i in range(0,columns):\n",
        "      count = count + abs(j[1][i]-x[1][i])\n",
        "    count = count**.5 #\"{:.2f}\".format(6.737391260718053)\n",
        "    list1.append([j[0],count])\n",
        "    \n",
        "  return (x[0],list1)"
      ],
      "execution_count": 19,
      "outputs": []
    },
    {
      "cell_type": "code",
      "metadata": {
        "id": "uuEWYUfRfyzN",
        "outputId": "9453315e-1861-4688-d76a-af0f882f9ffa",
        "colab": {
          "base_uri": "https://localhost:8080/",
          "height": 357
        }
      },
      "source": [
        "maxiterations = 20\n",
        "cost_functions_man = {}\n",
        "for i in range(0,maxiterations):\n",
        "  assigned_clusters_man = data.map(manhattan_distance).map(lambda a: (a[0], min((x for x in a[1]), key=lambda k:k[1])))#centroids1.cartesian(data).map(distance).groupByKey().map(lambda x: (x[0], list(x[1]))).map(lambda a: (a[0], min((x for x in a[1]), key=lambda k:k[1])))\n",
        "  #print(assigned_clusters.take(2))\n",
        "  cost_function_man = assigned_clusters_man.map(lambda x: x[1][1]*x[1][1]).sum()\n",
        "  cost_functions_man[i+1]  = cost_function_man\n",
        "  #new_centroids \n",
        "  new_centroids_man = assigned_clusters_man.join(data).map(lambda x: (x[1][0][0],x[1][1])).groupByKey().map(lambda x: (x[0], list(x[1]))).map(lambda c: (c[0], [sum(col)/len(col) for col in zip(*c[1])]))\n",
        "  #print(centroids1.take(2))\n",
        "  centroids_list_man = sc.broadcast(new_centroids_man.collect())\n",
        "  print('iter #' + str(i+1) + ' : ' + str(cost_function_man))"
      ],
      "execution_count": 20,
      "outputs": [
        {
          "output_type": "stream",
          "text": [
            "iter #1 : 1555391.73\n",
            "iter #2 : 1213041.3735680995\n",
            "iter #3 : 967138.3425643255\n",
            "iter #4 : 983722.9580789359\n",
            "iter #5 : 1027007.3543159593\n",
            "iter #6 : 1076467.1676468123\n",
            "iter #7 : 1106208.012637696\n",
            "iter #8 : 1126282.8093678206\n",
            "iter #9 : 1140577.6566740319\n",
            "iter #10 : 1159556.7920603869\n",
            "iter #11 : 1167828.1464454744\n",
            "iter #12 : 1176951.1222358735\n",
            "iter #13 : 1182022.6579219694\n",
            "iter #14 : 1182744.6729112603\n",
            "iter #15 : 1183469.97533879\n",
            "iter #16 : 1183469.97533879\n",
            "iter #17 : 1183469.97533879\n",
            "iter #18 : 1183469.97533879\n",
            "iter #19 : 1183469.97533879\n",
            "iter #20 : 1183469.97533879\n"
          ],
          "name": "stdout"
        }
      ]
    },
    {
      "cell_type": "code",
      "metadata": {
        "id": "NpmM71x1f0jt",
        "outputId": "2a34be50-a6f6-4b62-f547-bebb17c04e2d",
        "colab": {
          "base_uri": "https://localhost:8080/",
          "height": 34
        }
      },
      "source": [
        "perc_change_man = (cost_functions_man[1]-cost_functions_man[10])/cost_functions_man[1]\n",
        "perc_change_man"
      ],
      "execution_count": 21,
      "outputs": [
        {
          "output_type": "execute_result",
          "data": {
            "text/plain": [
              "0.254492119448014"
            ]
          },
          "metadata": {
            "tags": []
          },
          "execution_count": 21
        }
      ]
    },
    {
      "cell_type": "code",
      "metadata": {
        "id": "etWlA7Qtf4JN",
        "outputId": "81e66b51-fcd1-449d-8e17-ec93255520eb",
        "colab": {
          "base_uri": "https://localhost:8080/",
          "height": 312
        }
      },
      "source": [
        "plt.title('Cost Function Optimization using Manhattan Distance')\n",
        "plt.ylabel('Cost Function Value')\n",
        "plt.xlabel('Iteration')\n",
        "plt.plot(list(cost_functions_man.keys()),list(cost_functions_man.values()))"
      ],
      "execution_count": 22,
      "outputs": [
        {
          "output_type": "execute_result",
          "data": {
            "text/plain": [
              "[<matplotlib.lines.Line2D at 0x7faf4b1f5fd0>]"
            ]
          },
          "metadata": {
            "tags": []
          },
          "execution_count": 22
        },
        {
          "output_type": "display_data",
          "data": {
            "image/png": "[encoded data removed]",
            "text/plain": [
              "<Figure size 432x288 with 1 Axes>"
            ]
          },
          "metadata": {
            "tags": [],
            "needs_background": "light"
          }
        }
      ]
    }
  ]
}